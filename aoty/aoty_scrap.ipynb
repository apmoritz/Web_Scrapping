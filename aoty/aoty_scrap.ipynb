{
 "cells": [
  {
   "cell_type": "code",
   "execution_count": null,
   "metadata": {},
   "outputs": [],
   "source": [
    "from requests import get\n",
    "from bs4 import BeautifulSoup\n",
    "import pandas as pd"
   ]
  },
  {
   "cell_type": "code",
   "execution_count": null,
   "metadata": {},
   "outputs": [],
   "source": [
    "n_pages = 48\n",
    "n_votes = str(20)\n",
    "pages = [str(25*i+1) for i in range(n_pages)]\n",
    "artist = []\n",
    "album_name = []\n",
    "year = []\n",
    "critic_score = []\n",
    "user_score = []\n",
    "gap_score = []"
   ]
  },
  {
   "cell_type": "code",
   "execution_count": null,
   "metadata": {},
   "outputs": [],
   "source": [
    "for p in range(1,n_pages+1,1):\n",
    "    print(p)\n",
    "    url = \"https://www.albumoftheyear.org/ratings/6-highest-rated/2010s/\" + str(p) + \"?r=\" + n_votes\n",
    "    response = get(url)\n",
    "    html_soup = BeautifulSoup(response.text, 'html.parser')\n",
    "    album_container = html_soup.find_all('div', class_ = 'albumListRow')\n",
    "    \n",
    "    for album in album_container:\n",
    "        sub_url = album.a.get('href')\n",
    "        sub_url = \"https://www.albumoftheyear.org\"+sub_url\n",
    "        \n",
    "        response_sub_url = get(sub_url)\n",
    "        soup_sub_url = BeautifulSoup(response_sub_url.text, 'html.parser')\n",
    "        \n",
    "        #---artist\n",
    "        container_sub_url = soup_sub_url.find_all(\"div\",class_=\"artist\")\n",
    "        artist.append(container_sub_url[0].a.text)\n",
    "        \n",
    "        #---album\n",
    "        container_sub_url = soup_sub_url.find_all(\"div\",class_=\"albumTitle\")\n",
    "        album_name.append(container_sub_url[0].span.text)\n",
    "        \n",
    "        #---critic\n",
    "        container_sub_url = soup_sub_url.find_all(\"div\",class_=\"albumCriticScore\")\n",
    "        critic_score.append(int(container_sub_url[0].a.text))\n",
    "        \n",
    "        #---user\n",
    "        container_sub_url = soup_sub_url.find_all(\"div\",class_=\"albumUserScore\")\n",
    "        user_score.append(int(container_sub_url[0].a.text))\n",
    "        "
   ]
  },
  {
   "cell_type": "code",
   "execution_count": null,
   "metadata": {},
   "outputs": [],
   "source": [
    "albums_ratings = pd.DataFrame({\"Artist\":artist})\n",
    "albums_ratings.insert(1,\"Album\",album_name,True)\n",
    "albums_ratings.insert(2,\"User Score\",user_score,True)\n",
    "albums_ratings.insert(3,\"Critic Score\",critic_score,True)\n",
    "albums_ratings.insert(4,\"Gap Score\",[a_i - b_i for a_i, b_i in zip(critic_score, user_score)],True)\n",
    "\n",
    "albums_ratings"
   ]
  },
  {
   "cell_type": "code",
   "execution_count": null,
   "metadata": {},
   "outputs": [],
   "source": [
    "albums_ratings.to_csv('aoty_2010s_best.csv',index=False) "
   ]
  },
  {
   "cell_type": "code",
   "execution_count": null,
   "metadata": {},
   "outputs": [],
   "source": [
    "albums_ratings.sort_values(by=['Gap Score'], inplace=True,ascending=True)\n",
    "albums_ratings"
   ]
  },
  {
   "cell_type": "code",
   "execution_count": null,
   "metadata": {},
   "outputs": [],
   "source": [
    "albums_ratings[['Artist','Album','Gap Score']][:20]\n"
   ]
  }
 ],
 "metadata": {
  "kernelspec": {
   "display_name": "Python 3",
   "language": "python",
   "name": "python3"
  },
  "language_info": {
   "codemirror_mode": {
    "name": "ipython",
    "version": 3
   },
   "file_extension": ".py",
   "mimetype": "text/x-python",
   "name": "python",
   "nbconvert_exporter": "python",
   "pygments_lexer": "ipython3",
   "version": "3.7.1"
  }
 },
 "nbformat": 4,
 "nbformat_minor": 4
}
